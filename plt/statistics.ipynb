{
 "cells": [
  {
   "cell_type": "code",
   "execution_count": null,
   "metadata": {},
   "outputs": [],
   "source": []
  }
 ],
 "metadata": {
  "kernelspec": {
   "display_name": "Python 3.9.12 ('base')",
   "language": "python",
   "name": "python3"
  },
  "language_info": {
   "name": "python",
   "version": "3.9.12"
  },
  "orig_nbformat": 4,
  "vscode": {
   "interpreter": {
    "hash": "87e055eeb9873a6f81fbaf8fcf3d50d47b1917f0236393a0f58bddb44fab8a87"
   }
  }
 },
 "nbformat": 4,
 "nbformat_minor": 2
}
